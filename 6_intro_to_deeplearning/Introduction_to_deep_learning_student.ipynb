{
  "cells": [
    {
      "cell_type": "markdown",
      "metadata": {
        "id": "wjpGuyZbyFQT"
      },
      "source": [
        "<a href=\"https://githubtocolab.com/lucashervier/aibt/blob/main/6_intro_to_deeplearning/Introduction_to_deep_learning_student.ipynb\" target=\"_parent\"><img src=\"https://colab.research.google.com/assets/colab-badge.svg\" alt=\"Open in Colab\"/></a>\n",
        "\n",
        "**All Rights Reserved**\n",
        "\n",
        "**Copyright (c) 2021 IRT Saint-Exupery**\n",
        "\n",
        "*Lab 2 contact : mehdi.zouitine@irt-saintexupery.com*\n",
        "\n",
        "# Labs 5: Introduction to Deep Learning\n",
        "\n",
        "<div class=\"alert alert-block alert-info\">\n",
        "<b> Scope of this class: </b>\n",
        "5th hands'on practice of the AIBT mastere. In this session we will study and implement classical deep learning pipeline in Pytorch\n",
        "</div>\n",
        "\n",
        "The first part is inspired by an implementation of my colleague David bertoin from IRT Saint-Exupéry.\n"
      ]
    },
    {
      "cell_type": "code",
      "execution_count": 1,
      "metadata": {
        "id": "UMCLXRVxebDc"
      },
      "outputs": [],
      "source": [
        "import torch\n",
        "import pandas as pd\n",
        "import numpy as np\n",
        "import matplotlib.pyplot as plt\n",
        "import seaborn as sns\n",
        "sns.set()"
      ]
    },
    {
      "cell_type": "markdown",
      "metadata": {
        "id": "dFEOuR5krD3u"
      },
      "source": [
        "## 0. Introduction\n"
      ]
    },
    {
      "cell_type": "markdown",
      "metadata": {
        "id": "oBUpFiQhr3t8"
      },
      "source": [
        "The general concepts that you learned in machine learning models remain the same for deep learning.\n",
        "\n",
        "Just like in classical machine learning, the goal of a deep learning model is to learn a parameterized function $f_{\\theta}$ to solve a task. \n",
        "More precisely this set of parameters $\\theta$ is learned by minimizing an error function $L$ on a dataset $\\mathcal{D}$.\n",
        "\n",
        "Deep learning differs from classical machine learning because it does not require feature engineering.\n",
        "It is the network that will learn to extract the features useful to solve the task.\n",
        "\n",
        "In this session we will restrict ourselves to **supervised learning** tasks. : \n",
        "The data set is therefore of the following form $\\mathcal{D}:= (X,Y)$.\n",
        "\n",
        "And we try to minimize the following criteria:\n",
        "* For classfication task : \n",
        "$L(\\theta)=-\\mathbb{E}_{(X, Y) \\sim P}\\left(\\log \\left(f_{\\theta}(Y / X)\\right)\\right.$\n",
        "* For regression task : $L(\\theta)=\\mathbb{E}_{(X, Y) \\sim P}\\left(\\|Y-f_\\theta(X)\\|^{2}\\right)$\n",
        "\n",
        "\n"
      ]
    },
    {
      "cell_type": "markdown",
      "metadata": {
        "id": "AQm_ftHC0TNJ"
      },
      "source": [
        "## 1. Components of a deep learning pipeline"
      ]
    },
    {
      "cell_type": "markdown",
      "metadata": {
        "id": "UVomRdKN0pFm"
      },
      "source": [
        "A supervised deep learning pipeline generally contains the following elements: \n",
        "* A **labelled dataset** $(X,Y)$\n",
        "* A **dataloader** (which allows to sample **batches** of data from the dataset)\n",
        "* A **neural network** $f_{\\theta}$\n",
        "* A **loss function** $L$\n",
        "* An **optimizer** that will allow the updating of the weights $\\theta$ by gradient descent on the loss function $L$"
      ]
    },
    {
      "cell_type": "markdown",
      "metadata": {
        "id": "GYeMJaxT39a4"
      },
      "source": [
        "##2. Data and data Loading"
      ]
    },
    {
      "cell_type": "code",
      "execution_count": 50,
      "metadata": {
        "id": "9dnqrhY-M14q",
        "outputId": "a5491fa7-c786-48d9-a602-6bc58d812c15",
        "colab": {
          "base_uri": "https://localhost:8080/"
        }
      },
      "outputs": [
        {
          "output_type": "stream",
          "name": "stderr",
          "text": [
            "/usr/local/lib/python3.7/dist-packages/sklearn/utils/deprecation.py:87: FutureWarning: Function load_boston is deprecated; `load_boston` is deprecated in 1.0 and will be removed in 1.2.\n",
            "\n",
            "    The Boston housing prices dataset has an ethical problem. You can refer to\n",
            "    the documentation of this function for further details.\n",
            "\n",
            "    The scikit-learn maintainers therefore strongly discourage the use of this\n",
            "    dataset unless the purpose of the code is to study and educate about\n",
            "    ethical issues in data science and machine learning.\n",
            "\n",
            "    In this special case, you can fetch the dataset from the original\n",
            "    source::\n",
            "\n",
            "        import pandas as pd\n",
            "        import numpy as np\n",
            "\n",
            "\n",
            "        data_url = \"http://lib.stat.cmu.edu/datasets/boston\"\n",
            "        raw_df = pd.read_csv(data_url, sep=\"\\s+\", skiprows=22, header=None)\n",
            "        data = np.hstack([raw_df.values[::2, :], raw_df.values[1::2, :2]])\n",
            "        target = raw_df.values[1::2, 2]\n",
            "\n",
            "    Alternative datasets include the California housing dataset (i.e.\n",
            "    :func:`~sklearn.datasets.fetch_california_housing`) and the Ames housing\n",
            "    dataset. You can load the datasets as follows::\n",
            "\n",
            "        from sklearn.datasets import fetch_california_housing\n",
            "        housing = fetch_california_housing()\n",
            "\n",
            "    for the California housing dataset and::\n",
            "\n",
            "        from sklearn.datasets import fetch_openml\n",
            "        housing = fetch_openml(name=\"house_prices\", as_frame=True)\n",
            "\n",
            "    for the Ames housing dataset.\n",
            "    \n",
            "  warnings.warn(msg, category=FutureWarning)\n"
          ]
        }
      ],
      "source": [
        "from sklearn.datasets import load_boston\n",
        "df = load_boston();"
      ]
    },
    {
      "cell_type": "markdown",
      "metadata": {
        "id": "hRHr2FHJIHET"
      },
      "source": [
        "## 2. Neural network from scratch : Multilayer Perceptron "
      ]
    },
    {
      "cell_type": "markdown",
      "metadata": {
        "id": "KabA8k7DIgMD"
      },
      "source": [
        "To introduce neural networks we will work with the famous Boston dataset : The objective is to predict the **value of prices** of the house using the given **features**."
      ]
    },
    {
      "cell_type": "code",
      "execution_count": 51,
      "metadata": {
        "id": "yVaroOXrOcqV"
      },
      "outputs": [],
      "source": [
        "data = np.asarray(df.data, dtype='float32')\n",
        "target = np.asarray(df.target, dtype='float32')"
      ]
    },
    {
      "cell_type": "markdown",
      "metadata": {
        "id": "z18A3WnvJ_qx"
      },
      "source": [
        "<div class=\"alert alert-block alert-info\">\n",
        "    \n",
        "<b> Exercise 2.0 : </b>\n",
        "\n",
        "Separate your data into a training set and a validation set using `train_test_split`.\n",
        "\n",
        "\n",
        "</div>\n",
        "\n",
        "\n",
        "\n",
        "<div class=\"alert alert-block alert-info\">\n",
        "    \n",
        "<b> Exercise 2.1 : </b>\n",
        "\n",
        "Normalize the data and the target using `StandardScaler`.\n",
        "\n",
        "\n",
        "</div>"
      ]
    },
    {
      "cell_type": "code",
      "execution_count": 53,
      "metadata": {
        "id": "OZ5H6IJtQMRs"
      },
      "outputs": [],
      "source": [
        "from sklearn.model_selection import train_test_split\n",
        "\n",
        "X_train, X_val, y_train, y_val = train_test_split(data, target, test_size = 0.2, random_state=42)\n",
        "\n",
        "\n",
        "from sklearn import preprocessing\n",
        "# mean = 0 ; standard deviation = 1.0\n",
        "scaler = preprocessing.StandardScaler()\n",
        "X_train = scaler.fit_transform(X_train)\n",
        "X_val = scaler.transform(X_val)\n",
        "y_train = scaler.fit_transform(y_train.reshape(-1,1))\n",
        "y_val = scaler.transform(y_val.reshape(-1,1))"
      ]
    },
    {
      "cell_type": "markdown",
      "metadata": {
        "id": "11Q62QFVKjhH"
      },
      "source": [
        "Neural networks are composed of layers.\n",
        "A layer is composed of two methods : \n",
        "* The **forward** method allows to apply the layer function to the inputs.\n",
        "* The **backward** method allows to compute the gradient of the weights of the layer compared to the gradient of the next layer."
      ]
    },
    {
      "cell_type": "code",
      "execution_count": 54,
      "metadata": {
        "id": "iJDA5A6AO079"
      },
      "outputs": [],
      "source": [
        "import abc\n",
        "class Layer(abc.ABC):\n",
        "    def __init__(self):\n",
        "        self.layer_type = 'abstract'\n",
        "\n",
        "    def forward(self, inputs):\n",
        "        raise NotImplementedError\n",
        "    \n",
        "    def backward(self, grad):\n",
        "        raise NotImplementedError"
      ]
    },
    {
      "cell_type": "markdown",
      "metadata": {
        "id": "Nuk9bc4BL36e"
      },
      "source": [
        "A linear layer is composed with a weights matrice $W$ and a bias vector $b$.\n",
        "The result of the application of the layer on $x$ is given by :  $$L_{W}(x) = Wx+b$$\n",
        "\n",
        "When the layer is created, the weights W and b are randomly initialized.\n",
        "\n"
      ]
    },
    {
      "cell_type": "markdown",
      "metadata": {
        "id": "mPgCTJ0aLvPe"
      },
      "source": [
        "<div class=\"alert alert-block alert-info\">\n",
        "    \n",
        "<b> Exercise 2.2 : </b>\n",
        "Implement the `Linear` layer object.\n",
        "\n",
        "**Tip 1**: To apply the operation use the function `np.matmul function`.\n",
        "\n",
        "**Tip 2**: Initialize the weights between $[−0.1,0.1]$ by using the function `np.random.uniform`\n",
        "\n",
        "\n",
        "</div>\n"
      ]
    },
    {
      "cell_type": "code",
      "source": [
        "X_train"
      ],
      "metadata": {
        "id": "dJgmbA4i5Y5u",
        "outputId": "c5b17fc4-3b48-47e9-800f-dc7ef724d982",
        "colab": {
          "base_uri": "https://localhost:8080/"
        }
      },
      "execution_count": 55,
      "outputs": [
        {
          "output_type": "execute_result",
          "data": {
            "text/plain": [
              "array([[ 1.2877018 , -0.50032014,  1.0332369 , ...,  0.84534293,\n",
              "        -0.07433674,  1.753505  ],\n",
              "       [-0.33638445, -0.50032014, -0.4131595 , ...,  1.2047412 ,\n",
              "         0.43018377, -0.56147414],\n",
              "       [-0.40325332,  1.0132713 , -0.71521825, ..., -0.6371765 ,\n",
              "         0.06529749, -0.6515951 ],\n",
              "       ...,\n",
              "       [-0.40547013,  2.9593177 , -1.3033614 , ..., -0.59225154,\n",
              "         0.3790101 , -0.9106925 ],\n",
              "       [ 0.85189736, -0.50032014,  1.0332369 , ...,  0.84534293,\n",
              "        -2.694586  ,  1.5225704 ],\n",
              "       [-0.38135594, -0.50032014, -0.35216686, ...,  1.1598163 ,\n",
              "        -3.1215806 , -0.25731632]], dtype=float32)"
            ]
          },
          "metadata": {},
          "execution_count": 55
        }
      ]
    },
    {
      "cell_type": "code",
      "source": [
        "404*13"
      ],
      "metadata": {
        "id": "20VrKRhK8E-_",
        "outputId": "b8def3b4-61ad-4209-f453-02d420bb7f20",
        "colab": {
          "base_uri": "https://localhost:8080/"
        }
      },
      "execution_count": 56,
      "outputs": [
        {
          "output_type": "execute_result",
          "data": {
            "text/plain": [
              "5252"
            ]
          },
          "metadata": {},
          "execution_count": 56
        }
      ]
    },
    {
      "cell_type": "code",
      "execution_count": 57,
      "metadata": {
        "id": "pDxnIVgCOmHr"
      },
      "outputs": [],
      "source": [
        "class Linear(Layer):\n",
        "    def __init__(self, input_size, output_size):\n",
        "        super().__init__()\n",
        "        #weights is a tensor of dimension: (input_size x output_size) initialized...\n",
        "        #biais is a tensor of dimension: (output_size)\n",
        "        self.layer_type = 'linear'\n",
        "        self.params ={}\n",
        "        self.grads = {}\n",
        "        self.params[\"weights\"] = np.random.uniform(-0.1,0.1, size = (input_size,output_size))\n",
        "        self.params[\"bias\"] = np.random.uniform(-1,1, size = (output_size))\n",
        "\n",
        "    def forward(self, inputs):\n",
        "        # outputs = inputs @ weights + biais\n",
        "        #we will store the inputs they will be used in the backward method\n",
        "        self.inputs = inputs\n",
        "        outputs = np.matmul(inputs, self.params[\"weights\"]) + self.params[\"bias\"]\n",
        "        return outputs\n",
        "    \n",
        "    def backward(self, grad):\n",
        "        # we need so sum gradients over the batch axis\n",
        "        self.grads[\"weights\"] = np.matmul(self.inputs.T, grad)\n",
        "        self.grads[\"bias\"] = np.sum(grad, axis=0)\n",
        "        return np.matmul(grad, self.params[\"weights\"].T)\n"
      ]
    },
    {
      "cell_type": "markdown",
      "metadata": {
        "id": "fiaaK3vBPdLY"
      },
      "source": [
        "<div class=\"alert alert-block alert-info\">\n",
        "    \n",
        "<b> Test : </b>\n",
        "Make sure your implementation passes the test.\n",
        "</div>"
      ]
    },
    {
      "cell_type": "code",
      "execution_count": 58,
      "metadata": {
        "id": "qePKjjICO7SO"
      },
      "outputs": [],
      "source": [
        "input_size, output_size = 10, 5\n",
        "X = np.random.rand(input_size)\n",
        "grads = np.random.rand(10,5)\n",
        "test_linear_layer = Linear(input_size, output_size)\n",
        "assert test_linear_layer.forward(X).shape == (5,)\n",
        "assert test_linear_layer.backward(grads).shape == (10, 10)\n"
      ]
    },
    {
      "cell_type": "markdown",
      "metadata": {
        "id": "KAP0Vr42QrYw"
      },
      "source": [
        "Activation functions are a very important element in deep learning architectures. These functions allow the introduction of non-linearity.\n",
        "\n",
        "An activation function is a differentiable function, the most famous is called `Relu` : $$Relu :\\mathbb{R}^d \\rightarrow \\mathbb{R}^d$$  $$Relu(x) = max(0,x)$$"
      ]
    },
    {
      "cell_type": "markdown",
      "metadata": {
        "id": "mUns1aW5TLYL"
      },
      "source": [
        "<div class=\"alert alert-block alert-info\">\n",
        "    \n",
        "<b> Exercise 2.3 : </b>\n",
        "Implement the relu activation function and it's derivative.\n",
        "\n",
        "**Tip**: Use `np.max` and `np.where`.\n",
        "\n",
        "\n",
        "\n",
        "</div>"
      ]
    },
    {
      "cell_type": "code",
      "execution_count": 59,
      "metadata": {
        "id": "z2YRhMQlO-se"
      },
      "outputs": [],
      "source": [
        "def relu(x):\n",
        "    return np.maximum(0,x)\n",
        "\n",
        "def relu_prime(x):\n",
        "    return np.where(x > 0, 1.0, 0.0)"
      ]
    },
    {
      "cell_type": "markdown",
      "metadata": {
        "id": "k-P9oPsjTfMF"
      },
      "source": [
        "From a computer point of view, an activation can be seen as a layer.\n"
      ]
    },
    {
      "cell_type": "markdown",
      "metadata": {
        "id": "cpEPX6B-UIrj"
      },
      "source": [
        "<div class=\"alert alert-block alert-info\">\n",
        "    \n",
        "<b> Exercise 2.4 : </b>\n",
        "Implement the `Activation``\n",
        " object.\n",
        "\n",
        "**Tip / Reminder**: if $y=f(x)$ and $x=f(z)$ then $\\frac{\\partial y}{\\partial z} = f'(x) * g'(z)$\n",
        "\n",
        "\n",
        "\n",
        "</div>"
      ]
    },
    {
      "cell_type": "code",
      "execution_count": 60,
      "metadata": {
        "id": "1APtUpvvOrv2"
      },
      "outputs": [],
      "source": [
        "class Activation(Layer):\n",
        "    def __init__(self, f, f_prime):\n",
        "        super().__init__()\n",
        "        self.layer_type = 'activation'\n",
        "        self.f = f\n",
        "        self.f_prime = f_prime\n",
        "\n",
        "    def forward(self, inputs):\n",
        "        self.intputs = inputs\n",
        "        return self.f(inputs)\n",
        "    \n",
        "    def backward(self, grad):\n",
        "        \"\"\" if y = f(x) and x = g(z)\n",
        "        then dy/dz = f'(x) * g'(z)\n",
        "        In our case g'(z) correspond to the incomming gradients\n",
        "        \"\"\"\n",
        "        return self.f_prime(self.inputs) * grad\n"
      ]
    },
    {
      "cell_type": "markdown",
      "metadata": {
        "id": "vrpTk7yYVsVa"
      },
      "source": [
        "A neural network $f$ Is a succession of layers and activations : $$\\left.f(x)=f_{N}\\left(f_{N-1}\\left(\\ldots f_{1}\\left(x ; W_{1}, b_{1}\\right) ; W_{2}, b_{2}\\right) ; \\ldots\\right) ; W_{N}, b_{N}\\right)$$\n",
        "\n"
      ]
    },
    {
      "cell_type": "markdown",
      "metadata": {
        "id": "DslLgipeW2Fk"
      },
      "source": [
        "<div class=\"alert alert-block alert-info\">\n",
        "    \n",
        "<b> Exercise 2.5 : </b>\n",
        "Implement the `Neuralnetwork` object.\n",
        "\n",
        "**Tip / Reminder**: The list operator `reversed` must be used.\n",
        "\n",
        "\n",
        "\n",
        "</div>"
      ]
    },
    {
      "cell_type": "code",
      "execution_count": 61,
      "metadata": {
        "id": "U-lS5Zb_PavZ"
      },
      "outputs": [],
      "source": [
        "class NeuralNetwork:\n",
        "    def __init__(self, layers):\n",
        "        self.layers = layers\n",
        "\n",
        "    def forward(self, inputs):\n",
        "      self.inputs = inputs\n",
        "      for layer in self.layers:\n",
        "        inputs = layer.forward(inputs)\n",
        "      return inputs\n",
        "\n",
        "    def backward(self, grad):\n",
        "      for layer in reversed(self.layers):\n",
        "        grad  = layer.backward(grad)\n",
        "      return grad"
      ]
    },
    {
      "cell_type": "markdown",
      "metadata": {
        "id": "ztBG0_GaXO2Y"
      },
      "source": [
        "<div class=\"alert alert-block alert-info\">\n",
        "    \n",
        "<b> Exercise 2.6 : </b>\n",
        "Implement a function `create_neural_net`.\n",
        "\n",
        "It must create a neural network consisting of 3 layers:\n",
        "* an input layer receiving a vector of dimension 13 and consisting of 40 neurons\n",
        "* a hidden layer of 40 neurons\n",
        "* an output layer consisting of a single neuron\n",
        "\n",
        "\n",
        "\n",
        "\n",
        "</div>"
      ]
    },
    {
      "cell_type": "markdown",
      "source": [
        ""
      ],
      "metadata": {
        "id": "FEXtHQhKPBk9"
      }
    },
    {
      "cell_type": "code",
      "execution_count": 62,
      "metadata": {
        "id": "qKtNuiyzkadi"
      },
      "outputs": [],
      "source": [
        "def create_neural_net():\n",
        "  layers = [Linear(13,40), Activation(relu, relu_prime), Linear(40,1)]\n",
        "  net = NeuralNetwork(layers)\n",
        "  return net\n",
        "  "
      ]
    },
    {
      "cell_type": "markdown",
      "metadata": {
        "id": "37spaNnZYYE-"
      },
      "source": [
        "<div class=\"alert alert-block alert-info\">\n",
        "    \n",
        "<b> Exercise 2.7 : </b>\n",
        "* Instantiate a neural network\n",
        "* Make a precition on `X_val` using this neural network.\n",
        "* Compute the error using the MSE metric.\n",
        "* Plot the ground truth and the prediction\n",
        "\n",
        "**Tip**: Use `inverse_transform` and `mean_absolute_error` functions from sklearn.\n",
        "\n",
        "</div>"
      ]
    },
    {
      "cell_type": "code",
      "execution_count": 63,
      "metadata": {
        "id": "BRFd5GRfUNim",
        "outputId": "facfbea7-a026-42d7-94f8-7a914ecb9d86",
        "colab": {
          "base_uri": "https://localhost:8080/",
          "height": 355
        }
      },
      "outputs": [
        {
          "output_type": "execute_result",
          "data": {
            "text/plain": [
              "<matplotlib.legend.Legend at 0x7f0a1c815e50>"
            ]
          },
          "metadata": {},
          "execution_count": 63
        },
        {
          "output_type": "display_data",
          "data": {
            "image/png": "[encoded data removed]",
            "text/plain": [
              "<Figure size 1440x360 with 1 Axes>"
            ]
          },
          "metadata": {
            "needs_background": "light"
          }
        }
      ],
      "source": [
        "from sklearn.metrics import mean_absolute_error\n",
        "net = create_neural_net()\n",
        "y_pred = net.forward(X_val)\n",
        "mse = mean_absolute_error(y_pred,y_val)\n",
        "\n",
        "   \n",
        "plt.figure(figsize=(20,5))\n",
        "plt.scatter(range(len(y_val)), scaler.inverse_transform(y_val), label='target')\n",
        "plt.scatter(range(len(y_val)), scaler.inverse_transform(y_pred), label='prediction')\n",
        "plt.title(\"Untrained neural network prediction\")\n",
        "plt.legend()"
      ]
    },
    {
      "cell_type": "markdown",
      "metadata": {
        "id": "NEnkww35ZnoB"
      },
      "source": [
        "<div class=\"alert alert-block alert-info\">\n",
        "    \n",
        "<b> Exercise 2.8 : </b>\n",
        "Comment the results : \n",
        "* Why is the model error so large ?\n",
        "* Why do all the predictions line up ?\n",
        "</div>"
      ]
    },
    {
      "cell_type": "markdown",
      "metadata": {
        "id": "83MiNdsYaKD3"
      },
      "source": [
        "In order to train the network, we need a loss function to minimize.\n",
        "In the regression set up, the MSE do perfectly the job ! \n",
        "$$MSE(f(x),y) = \\sum_{i}^{n}\\frac{(f(x_i) - y_i)^2}{n}$$ "
      ]
    },
    {
      "cell_type": "markdown",
      "metadata": {
        "id": "LCS0LtwHanaB"
      },
      "source": [
        "<div class=\"alert alert-block alert-info\">\n",
        "    \n",
        "<b> Exercise 2.9 : </b>\n",
        "Implement the `MSE` function and its gradient.\n",
        "</div>"
      ]
    },
    {
      "cell_type": "code",
      "execution_count": 66,
      "metadata": {
        "id": "aqJD6O1gPo_W"
      },
      "outputs": [],
      "source": [
        "class MSE():\n",
        "\n",
        "    def loss(self, y_pred, y_true):\n",
        "        #returns a scalar\n",
        "        return np.square(y_pred - y_true).mean()\n",
        "    \n",
        "    def grad(self, y_pred, y_true):\n",
        "        #returns a tensor of gradients\n",
        "        return 2*(y_pred-y_true)\n"
      ]
    },
    {
      "cell_type": "markdown",
      "metadata": {
        "id": "cowMy8WMA2R4"
      },
      "source": [
        "The loss function provides you with the error of your model. This error then allows you to update the weights of your model by gradient descent. The update of the weights is done with an optimizer. \n",
        "The optimizer goes through the weights and applies a gradient descent on these weights."
      ]
    },
    {
      "cell_type": "markdown",
      "metadata": {
        "id": "FeV9denBB14K"
      },
      "source": [
        "<div class=\"alert alert-block alert-info\">\n",
        "    \n",
        "<b> Exercise 2.10 : </b>\n",
        "Implement an optimizer.*texte en italique*\n",
        "</div>"
      ]
    },
    {
      "cell_type": "code",
      "execution_count": 67,
      "metadata": {
        "id": "ZNsZM5EYPs2Z"
      },
      "outputs": [],
      "source": [
        "class SGD():\n",
        "    def __init__(self, lr=0.001):\n",
        "        self.lr = lr\n",
        "    \n",
        "    def step(self, net):\n",
        "        for layer in net.layers:\n",
        "            if layer.layer_type == 'linear':\n",
        "                for param, grad in zip(layer.params.values(), layer.grads.values()):\n",
        "                    param -= self.lr * grad\n"
      ]
    },
    {
      "cell_type": "markdown",
      "metadata": {
        "id": "12mxYTwqCEkN"
      },
      "source": [
        "<div class=\"alert alert-block alert-info\">\n",
        "    \n",
        "<b> Exercise 2.11 : </b>\n",
        "Implement the fit function.\n",
        "This function must:\n",
        "\n",
        "* compute the predictions of the network on the learning batch\n",
        "* compute the loss\n",
        "* compute the gradient of the loss\n",
        "* retropagate the gradients\n",
        "* perform an optimization step\n",
        "* return the loss\n",
        "</div>\n"
      ]
    },
    {
      "cell_type": "code",
      "execution_count": null,
      "metadata": {
        "id": "XyrET-BhPwx7"
      },
      "outputs": [],
      "source": [
        "def fit(net, loss, optimizer, X, y):\n",
        "    y_pred = net.backward(X_val)\n",
        "    mse = MSE()\n",
        "    mse = mse.grad(y_pred,y_val)\n",
        "    gradients = net.backward(mse)\n",
        "\n",
        "    return prediction_loss\n"
      ]
    },
    {
      "cell_type": "markdown",
      "metadata": {
        "id": "_rL3ihLHCxLc"
      },
      "source": [
        "<div class=\"alert alert-block alert-info\">\n",
        "    \n",
        "<b> Exercise 2.12 : </b>\n",
        "Train your neural network.\n",
        "</div>"
      ]
    },
    {
      "cell_type": "code",
      "execution_count": null,
      "metadata": {
        "id": "sbkjsptZP1Lr"
      },
      "outputs": [],
      "source": [
        "import matplotlib.pyplot as plt\n",
        "from sklearn.metrics import mean_absolute_error\n",
        "\n",
        "net = ...\n",
        "optimizer = ...\n",
        "loss = ...\n",
        "k=0\n",
        "for i, (x, y) in enumerate(zip(X_train, y_train)):\n",
        "    training_loss = ...\n",
        "    y_pred = ...\n",
        "    if i%66 == 0:\n",
        "      fig = plt.figure(figsize=(20,5));\n",
        "      plt.scatter(range(len(y_val)), scaler.inverse_transform(y_val), label='target');\n",
        "      plt.scatter(range(len(y_val)), scaler.inverse_transform(y_pred), label='prediction');\n",
        "      plt.title(f\"Prediction at iteration {i} // MSE = {mean_absolute_error(y_pred, y_val)}\")\n",
        "      plt.legend()\n",
        "      plt.show()\n",
        "print(mean_absolute_error(y_pred, y_val))"
      ]
    },
    {
      "cell_type": "markdown",
      "metadata": {
        "id": "CzUkGc1bC8Gr"
      },
      "source": [
        "<div class=\"alert alert-block alert-info\">\n",
        "    \n",
        "<b> Exercise 2.13 : </b>\n",
        "Train your neural network over 10 epochs.\n",
        "</div>"
      ]
    },
    {
      "cell_type": "code",
      "execution_count": null,
      "metadata": {
        "id": "6ZfflUfMP71u"
      },
      "outputs": [],
      "source": [
        "net = create_neural_net()\n",
        "optimizer = SGD(lr=0.01)\n",
        "loss = MSE()\n",
        "for epoch in range(10):\n",
        "  for i, (x, y) in enumerate(zip(X_train, y_train)):\n",
        "      training_loss = fit(net, loss, optimizer, np.array([x]), np.array([y]))\n",
        "      y_pred = net.forward(X_val)\n",
        "  fig = plt.figure(figsize=(20,5));\n",
        "  plt.scatter(range(len(y_val)), scaler.inverse_transform(y_val), label='target');\n",
        "  plt.scatter(range(len(y_val)), scaler.inverse_transform(y_pred), label='prediction');\n",
        "  plt.title(f\"Prediction at epoch {epoch} // MSE = {mean_absolute_error(y_pred, y_val)}\")\n",
        "  plt.legend()\n",
        "  plt.show()\n",
        "\n"
      ]
    },
    {
      "cell_type": "markdown",
      "metadata": {
        "id": "iYAGWjbxDKcm"
      },
      "source": [
        "##3. Deep learning framework : Pytorch"
      ]
    },
    {
      "cell_type": "markdown",
      "metadata": {
        "id": "oEj3D4mMDxJ5"
      },
      "source": [
        "Pytorch is a deep learning framework allowing to automate many operations.\n",
        "It also provides a lot of tools to create and train deep learning models."
      ]
    },
    {
      "cell_type": "markdown",
      "metadata": {
        "id": "ZpZXEKrmELBO"
      },
      "source": [
        "In deep learning, the type of data used is the **Tensor**.\n",
        "A tensor is an array of data that can contain vectors,images and much more ! \n",
        "\n",
        "\n",
        "You can instantiate a tensor using the `torch.tensor` method.\n",
        "\n"
      ]
    },
    {
      "cell_type": "markdown",
      "metadata": {
        "id": "kRsbAR9_FWlV"
      },
      "source": [
        "<div class=\"alert alert-block alert-info\">\n",
        "    \n",
        "<b> Exercise 3.0: </b>\n",
        "* Create a tensor `age_1` containing your age with type `long` and a tensor `size_1` containing your height in cm with type `float32`.\n",
        "</div>"
      ]
    },
    {
      "cell_type": "code",
      "execution_count": null,
      "metadata": {
        "id": "TFns8IN0EXAC"
      },
      "outputs": [],
      "source": [
        "age_1 = ...\n",
        "size = ..."
      ]
    },
    {
      "cell_type": "markdown",
      "metadata": {
        "id": "JwteogJoHMft"
      },
      "source": [
        "<div class=\"alert alert-block alert-info\">\n",
        "    \n",
        "<b> Exercise 3.1: </b>  \n",
        "Imagine your task is to predict the life expectancy of a person $y_i$ from a set of bioligical measure $(x_i^0,x_i^1,x_i^2,\\ldots,x_i^6)$.\n",
        "* Create three tensors `x_1`, `x_2` and `x_3` of biological data and form a data batch of size 3 `batch_x` with these three tensors.\n",
        "\n",
        "**Tip**: Use `torch.stack`.\n",
        "</div>\n"
      ]
    },
    {
      "cell_type": "code",
      "execution_count": null,
      "metadata": {
        "id": "BUzzyuz0HCDJ"
      },
      "outputs": [],
      "source": [
        "x1 = ...\n",
        "x2 = ...\n",
        "x3 = ...\n",
        "batch_x = ..."
      ]
    },
    {
      "cell_type": "markdown",
      "metadata": {
        "id": "6AM_nZ-sKpQ_"
      },
      "source": [
        "You can also check some attributes of your tensor.\n",
        "For example you can look at the shape of the tensor using the `shape` attribute, the gradient of a tensor using the `grad` attribute and the type using `dtype`.\n",
        "\n",
        "You can also see under which device your tensor is with the attribute `device`.\n",
        "Finally you can also put your data on gpu using the `torch.tensor.to` method.\n",
        "The possible devices are \"cpu\" and \"cuda\"."
      ]
    },
    {
      "cell_type": "markdown",
      "metadata": {
        "id": "fWthyzPaLUNC"
      },
      "source": [
        "<div class=\"alert alert-block alert-info\">\n",
        "    \n",
        "<b> Exercise 3.2: </b>  \n",
        "* Look at the device, gradient, type and shape of your tensors.\n",
        "* Change the device of your tensors to \"cuda\".\n",
        "</div>"
      ]
    },
    {
      "cell_type": "code",
      "execution_count": null,
      "metadata": {
        "id": "LJmG45YNN2E1"
      },
      "outputs": [],
      "source": [
        ""
      ]
    },
    {
      "cell_type": "markdown",
      "metadata": {
        "id": "smItE_pONTbg"
      },
      "source": [
        "<div class=\"alert alert-block alert-info\">\n",
        "    \n",
        "<b> Exercise 3.3: </b>  \n",
        "\n",
        "Transform the first three samples of `X_train` into a tensor and make a batch that you convert to the `torch.float32` type and pass to the cuda device.\n",
        "</div>"
      ]
    },
    {
      "cell_type": "code",
      "execution_count": null,
      "metadata": {
        "id": "7VM3hBkjN3bb"
      },
      "outputs": [],
      "source": [
        ""
      ]
    },
    {
      "cell_type": "markdown",
      "metadata": {
        "id": "HuhgORfyjHzW"
      },
      "source": [
        "To manage more easily the processing of your data, pytorch proposes a tool: the `Dataset` class.\n",
        "\n",
        "This class allows the creation of a data generator which will be very useful when training your model.\n",
        "\n",
        "This dataset allows to retrieve the data as a tensor.\n",
        "The dataset implements 2 methods : The `__get_item__` method which allows to access to a sample and the `__len__` method which returns the number of sample."
      ]
    },
    {
      "cell_type": "markdown",
      "metadata": {
        "id": "Rg3ELcPhOafQ"
      },
      "source": [
        "<div class=\"alert alert-block alert-info\">\n",
        "    \n",
        "<b> Exercise 3.4: </b>  \n",
        "Implement a torch dataset allowing you to access the boston dataset.\n",
        "* The `__get_item__` method should return a dict containing the data and labels in tensor form.\n",
        "* The `__len__` method should return the number of samples.\n",
        "\n",
        "</div>"
      ]
    },
    {
      "cell_type": "code",
      "execution_count": null,
      "metadata": {
        "id": "9rVZcW9brYUA"
      },
      "outputs": [],
      "source": [
        "from torch.utils.data import Dataset"
      ]
    },
    {
      "cell_type": "code",
      "execution_count": null,
      "metadata": {
        "id": "SPGHVFweq9Cq"
      },
      "outputs": [],
      "source": [
        "class TabularDataset(Dataset):\n",
        "  def __init__(self,X,y):\n",
        "    self.X = ...\n",
        "    self.y = ...\n",
        "  def __getitem__(self,idx): \n",
        "    return {\"data\": ...,\"label\": ...}\n",
        "\n",
        "  def __len__(self):\n",
        "    return ...\n"
      ]
    },
    {
      "cell_type": "markdown",
      "metadata": {
        "id": "Wv41rrnzO74f"
      },
      "source": [
        "<div class=\"alert alert-block alert-info\">\n",
        "    \n",
        "<b> Exercise 3.5: </b>  \n",
        "Set up a dataset for the train set and one for the validation set\n",
        "\n",
        "</div>"
      ]
    },
    {
      "cell_type": "code",
      "execution_count": null,
      "metadata": {
        "id": "SsydoVVtmHFc"
      },
      "outputs": [],
      "source": [
        "train_dataset = ...\n",
        "val_dataset = ..."
      ]
    },
    {
      "cell_type": "code",
      "execution_count": null,
      "metadata": {
        "id": "NSmYeL0UpbjP"
      },
      "outputs": [],
      "source": [
        "print(f\"First sample (x,y) of the dataset : {train_dataset[0]} \\n\") # get_item method\n",
        "print(f\"There are {len(train_dataset)} samples in the dataset.\") # len method"
      ]
    },
    {
      "cell_type": "markdown",
      "metadata": {
        "id": "zVGhyRC3PxmS"
      },
      "source": [
        "Once the dataset is created, another class is used to wrap this dataset: The `Dataloader`.\n",
        "A dataloader allows to sample batches of dataset data and to parallelize the batch formation on several workers."
      ]
    },
    {
      "cell_type": "markdown",
      "metadata": {
        "id": "Vd7tnsNgP6ct"
      },
      "source": [
        "<div class=\"alert alert-block alert-info\">\n",
        "    \n",
        "<b> Exercise 3.6: </b>  \n",
        "Create a train dataloader and a validation dataloader that returns sample batches of size 16.\n",
        "\n",
        "</div>"
      ]
    },
    {
      "cell_type": "code",
      "execution_count": null,
      "metadata": {
        "id": "_mqXOwOvnF78"
      },
      "outputs": [],
      "source": [
        "from torch.utils.data import DataLoader"
      ]
    },
    {
      "cell_type": "code",
      "execution_count": null,
      "metadata": {
        "id": "SPXRTV7MnHX4"
      },
      "outputs": [],
      "source": [
        "batch_size = ...\n",
        "num_workers = ...\n",
        "train_dataloader = ...\n",
        "val_dataloader = ..."
      ]
    },
    {
      "cell_type": "markdown",
      "metadata": {
        "id": "UY0wScNwSCIs"
      },
      "source": [
        "<div class=\"alert alert-block alert-info\">\n",
        "    \n",
        "<b> Exercise 3.7: </b>  \n",
        "* Inspect the first batch of your training loader.\n",
        "* Create a data variable and a label variable containing respectively, the data and the labels of the first batch\n",
        "\n",
        "**Tip**: To get the first element of the loader use: `next(iter(loader))`\n",
        "</div>"
      ]
    },
    {
      "cell_type": "code",
      "execution_count": null,
      "metadata": {
        "id": "--fkRD-YpJPn"
      },
      "outputs": [],
      "source": [
        "first_batch = ...\n",
        "data = ...\n",
        "label = ..."
      ]
    },
    {
      "cell_type": "markdown",
      "metadata": {
        "id": "w_MTYYCHQv6B"
      },
      "source": [
        "In the previous part you created a neural network with linear layers.\n",
        "You had to implement the forward and backward method for each layer.\n",
        "Pytorch allows you to use well known layers like linear or convolutional layers."
      ]
    },
    {
      "cell_type": "markdown",
      "metadata": {
        "id": "knXVFlB7RdVu"
      },
      "source": [
        "\n",
        "<div class=\"alert alert-block alert-info\">\n",
        "    \n",
        "<b> Exercise 3.8: </b>  \n",
        "Implement a neural network with a single linear layer using the pytorch framework.\n",
        "\n",
        "**Tip**: Use `nn.Linear` layer.\n",
        "</div>"
      ]
    },
    {
      "cell_type": "code",
      "execution_count": null,
      "metadata": {
        "id": "qr5pfgtOpHP5"
      },
      "outputs": [],
      "source": [
        "import torch.nn as nn\n",
        "class MLPRegression(nn.Module): # All pytorch models must inherit the nn.Module\n",
        "  def __init__(self,in_features):\n",
        "     super(MLPRegression, self).__init__() # The constructor of the class calls the constructor of its parent class with the keyword \"super\".\n",
        "     self.layer1 = ...\n",
        "  def forward(self,x):\n",
        "    value = ...\n",
        "    return value\n"
      ]
    },
    {
      "cell_type": "markdown",
      "metadata": {
        "id": "fGpdl3oCTr0i"
      },
      "source": [
        "<div class=\"alert alert-block alert-info\">\n",
        "    \n",
        "<b> Exercise 3.9: </b>  \n",
        "Use your neural network to make a prediction on the first batch of data.\n",
        "</div>"
      ]
    },
    {
      "cell_type": "code",
      "execution_count": null,
      "metadata": {
        "id": "dgqU0V5quJeI"
      },
      "outputs": [],
      "source": [
        "in_features = ...\n",
        "mlp_regression = ..."
      ]
    },
    {
      "cell_type": "code",
      "execution_count": null,
      "metadata": {
        "id": "bAuZA04_umDA"
      },
      "outputs": [],
      "source": [
        "preds = ..."
      ]
    },
    {
      "cell_type": "markdown",
      "metadata": {
        "id": "AqFLMFhbUv_U"
      },
      "source": [
        "Now we will move on to the most important part of the session: Training the model.\n",
        "Writing a **training loop** is not a simple thing at first.\n",
        "The following code implements a generic training loop that I advise you to keep for your future work in deep learning."
      ]
    },
    {
      "cell_type": "markdown",
      "metadata": {
        "id": "G5WFQ2bZU2LB"
      },
      "source": [
        "<div class=\"alert alert-block alert-info\">\n",
        "    \n",
        "<b> Exercise 3.10: </b>  \n",
        "* Explain the role of each argument of the function\n",
        "* Fill in the blank code\n",
        "* Comment on each line of the training loop (except the lines used for visualization).\n",
        "* Raise your hand to give me an oral report on this question \n",
        "</div>"
      ]
    },
    {
      "cell_type": "code",
      "execution_count": null,
      "metadata": {
        "id": "Ezk4DCJIu5C6"
      },
      "outputs": [],
      "source": [
        "import seaborn as sns\n",
        "from matplotlib import pyplot as plt\n",
        "import numpy as np\n",
        "sns.set()\n",
        "def train_regressor(\n",
        "    model: nn.Module,\n",
        "    optimizer: torch.optim.Optimizer,\n",
        "    train_loader: DataLoader,\n",
        "    valid_loader: DataLoader,\n",
        "    nb_epoch: int,\n",
        "    criterion: nn.Module,\n",
        "    batch_size:int=16,\n",
        "    device: torch.device = torch.device(\"cuda:0\"),\n",
        "    \n",
        "    verbose: bool=True,\n",
        ") -> None:\n",
        "    \"\"\"\n",
        "    Pytorch training loop\n",
        "    Args:\n",
        "        model (nn.Module): Pytorch classification model\n",
        "        optimizer (torch.optim.Optimizer): Optimizer for the model\n",
        "        train_loader (DataLoader): DataLoader for training fold\n",
        "        valid_loader (DataLoader): DataLoader for validation fold\n",
        "        nb_epoch (int): Number of epoch\n",
        "        criterion (nn.Module): Loss\n",
        "        device (torch.device): .Defaults to `torch.device(\"cuda:0\")`\n",
        "        verbose (bool): Verbose term\n",
        "    \"\"\"\n",
        "    loaders = {\"train\": train_loader, \"validation\": valid_loader}\n",
        "    model.to(device)\n",
        "    train_loss = []\n",
        "    val_loss = []\n",
        "    for epoch in range(1, nb_epoch + 1):\n",
        "        if verbose:\n",
        "          print(\"-\" * 80)\n",
        "        for phase in [\"train\", \"validation\"]:\n",
        "            if phase == \"train\":\n",
        "                model.train()\n",
        "            else:\n",
        "                model.eval()\n",
        "            running_loss = 0.0\n",
        "            for sample in loaders[phase]:\n",
        "                data = ...\n",
        "                label = ...\n",
        "                optimizer.zero_grad()\n",
        "                data, label = data.to(device), label.to(device)\n",
        "                with torch.set_grad_enabled(phase == \"train\"):\n",
        "                    output = ...\n",
        "                    pred_label = ...\n",
        "                    loss = ...\n",
        "                    if phase == \"train\":\n",
        "                        ... # Compute the gradient\n",
        "                        ... # Make a gradient step\n",
        "                running_loss += loss.item()\n",
        "            epoch_loss = running_loss / (len(loaders[phase].dataset)/batch_size)\n",
        "            if phase == \"train\":\n",
        "              train_loss.append(epoch_loss)\n",
        "            else:\n",
        "              val_loss.append(epoch_loss)\n",
        "            if verbose:\n",
        "              print(\n",
        "                  f\" Epoch number: {epoch}, Phase: {phase}, Loss value: {epoch_loss:.4f}\"\n",
        "              )\n",
        "    fig,(axe1,axe2) = plt.subplots(2,figsize=(10,10))\n",
        "    fig.suptitle('Training and validation statistics')\n",
        "\n",
        "\n",
        "    y_pred = model(torch.from_numpy(X_val).to(device)).detach().cpu().numpy()\n",
        "    axe1.plot(np.arange(len(train_loss)),train_loss,label=\"train MSE\")\n",
        "    axe1.plot(np.arange(len(val_loss)),val_loss,label = \"val MSE\")\n",
        "    axe1.set_title(\"MSE loss\")\n",
        "    axe1.legend()\n",
        "    axe2.scatter(range(len(y_val)), scaler.inverse_transform(y_val), label='target');\n",
        "    axe2.scatter(range(len(y_val)), scaler.inverse_transform(y_pred), label='prediction');\n",
        "    axe2.set_title(f\"Prediction // MSE = {mean_absolute_error(y_pred, y_val)}\")\n",
        "    axe1.legend()\n",
        "    plt.show()\n",
        "    return train_loss,val_loss"
      ]
    },
    {
      "cell_type": "markdown",
      "metadata": {
        "id": "4Z9xAMu-VWPE"
      },
      "source": [
        "<div class=\"alert alert-block alert-info\">\n",
        "    \n",
        "<b> Exercise 3.11: </b>  \n",
        "Instantiate the list of parameters necessary to launch the function and justify each of these parameters (Why use this loss, why use this optimizer, why set this learning rate, why use this architecture ...)  \n",
        "</div>\n",
        "\n",
        "**Tip**: Use `Adam` optimizer and have a look to https://pytorch.org/docs/stable/nn.html#loss-functions"
      ]
    },
    {
      "cell_type": "code",
      "execution_count": null,
      "metadata": {
        "id": "BCf3UAFC7vC4"
      },
      "outputs": [],
      "source": [
        "from torch.optim import Adam,SGD\n",
        "mlp_logistic = ...\n",
        "batch_size = ...\n",
        "num_workers = ...\n",
        "train_dataloader = ...\n",
        "val_dataloader = ...\n",
        "learning_rate = ...\n",
        "optimizer = ...\n",
        "criterion = ...\n",
        "device = ...\n",
        "nb_epochs = ...\n",
        "verbose = ..."
      ]
    },
    {
      "cell_type": "code",
      "execution_count": null,
      "metadata": {
        "id": "XHMguS8Avv6d"
      },
      "outputs": [],
      "source": [
        "train_loss,val_loss= ..."
      ]
    },
    {
      "cell_type": "markdown",
      "metadata": {
        "id": "F_BPlmQEWV_Z"
      },
      "source": [
        "<div class=\"alert alert-block alert-info\">\n",
        "    \n",
        "<b> Exercise 3.12: </b>  \n",
        "Comment the results on : \n",
        "* The loss function\n",
        "* The model error\n",
        "\n",
        "Can we do better and how?\n",
        "</div>"
      ]
    },
    {
      "cell_type": "markdown",
      "metadata": {
        "id": "tvW0uiJeXGnI"
      },
      "source": [
        "<div class=\"alert alert-block alert-info\">\n",
        "    \n",
        "<b> Exercise 3.13: </b>  \n",
        "* Implement a new deeper architecture.\n",
        "* Set the necessary parameters for the training again and restart the procedure.\n",
        "* Comment on the new results obtained\n",
        "</div>"
      ]
    },
    {
      "cell_type": "code",
      "execution_count": null,
      "metadata": {
        "id": "ytbd-rXJAkrF"
      },
      "outputs": [],
      "source": [
        "import torch.nn as nn\n",
        "class MLPDeep(nn.Module):\n",
        "  def __init__(self,in_features):\n",
        "     super(MLPDeep, self).__init__()\n",
        "     ...\n",
        "  def forward(self,x):\n",
        "    ...\n",
        "    return value"
      ]
    },
    {
      "cell_type": "code",
      "execution_count": null,
      "metadata": {
        "id": "JfESJeqOPdgJ"
      },
      "outputs": [],
      "source": [
        "mlp_deep = ...\n",
        "batch_size = ...\n",
        "num_workers = ...\n",
        "train_dataloader = ...\n",
        "val_dataloader = ...\n",
        "learning_rate = ...\n",
        "optimizer = ...\n",
        "criterion = ...\n",
        "device = ...\n",
        "nb_epochs = ...\n",
        "verbose = ..."
      ]
    },
    {
      "cell_type": "code",
      "execution_count": null,
      "metadata": {
        "id": "lu68nVKMPCYZ"
      },
      "outputs": [],
      "source": [
        "train_loss,val_loss= ..."
      ]
    },
    {
      "cell_type": "markdown",
      "metadata": {
        "id": "R-8jpkiDqGoI"
      },
      "source": [
        "## 4 : Pytorch model on image classification\n",
        "\n",
        "Now we will implement a pytorch model to train a classifier to predict someone's age from a picture."
      ]
    },
    {
      "cell_type": "markdown",
      "metadata": {
        "id": "Q5opCAILo4At"
      },
      "source": [
        "Indian Movie Face database (IMFDB) is a large unconstrained face database consisting of 34512 images of 100 Indian actors collected from more than 100 videos. All the images are manually selected and cropped from the video frames resulting in a high degree of variability interms of scale, pose, expression, illumination, age, resolution, occlusion, and makeup. IMFDB is the first face database that provides a detailed annotation of every image in terms of age, pose, gender, expression and type of occlusion that may help other face related applications.\n",
        "\n",
        "The dataset provided a total of 19906 images.The attributes of data are as follows:\n",
        "\n",
        "* ID – Unique ID of image\n",
        "* Class – Age bin of person in image\n"
      ]
    },
    {
      "cell_type": "code",
      "execution_count": null,
      "metadata": {
        "id": "sf6U6xKFdb-t"
      },
      "outputs": [],
      "source": [
        "! gdown --id 19Xb9r42B-Ajs13airFi5fghNcIjv4lDP\n",
        "! unzip archive.zip"
      ]
    },
    {
      "cell_type": "code",
      "execution_count": null,
      "metadata": {
        "id": "OY_SuDe8hic1"
      },
      "outputs": [],
      "source": [
        "df_age = pd.read_csv(\"train.csv\")\n",
        "df_age.head(5)"
      ]
    },
    {
      "cell_type": "code",
      "execution_count": null,
      "metadata": {
        "id": "82V59b3-s27q"
      },
      "outputs": [],
      "source": [
        "def to_numeric_class(x):\n",
        "  if x == \"YOUNG\":\n",
        "    return 0\n",
        "  elif x == \"MIDDLE\":\n",
        "    return 1\n",
        "  else:\n",
        "    return 2"
      ]
    },
    {
      "cell_type": "code",
      "execution_count": null,
      "metadata": {
        "id": "Qm6LOgL-tUJU"
      },
      "outputs": [],
      "source": [
        "df_age[\"Class\"] = df_age[\"Class\"].apply(to_numeric_class).astype(int)"
      ]
    },
    {
      "cell_type": "code",
      "execution_count": null,
      "metadata": {
        "id": "YuvkWjUpuSgn"
      },
      "outputs": [],
      "source": [
        "X_age_train, X_age_val, y_age_train, y_age_val = train_test_split(\n",
        "    df_age[\"ID\"], df_age[\"Class\"], test_size=0.33, random_state=42)"
      ]
    },
    {
      "cell_type": "code",
      "execution_count": null,
      "metadata": {
        "id": "Vf4Xogqhu5qr"
      },
      "outputs": [],
      "source": [
        "import torchvision.transforms as transforms\n",
        "from PIL import Image\n"
      ]
    },
    {
      "cell_type": "markdown",
      "metadata": {
        "id": "NApvJ3xeDlPU"
      },
      "source": [
        "<div class=\"alert alert-block alert-info\">\n",
        "    \n",
        "<b> Exercise 4.0.1: </b>  \n",
        "Fill in the few gaps and comment on each line of the loader.\n",
        "\n",
        "</div>"
      ]
    },
    {
      "cell_type": "code",
      "execution_count": null,
      "metadata": {
        "id": "Uj__fkwVvPzM"
      },
      "outputs": [],
      "source": [
        "class AgeImageDataset(Dataset):\n",
        "  def __init__(self,X,y,transform=transforms.Compose([transforms.ToTensor(),transforms.Resize((32,32))])):\n",
        "    self.X = ...\n",
        "    self.y = ...\n",
        "    self.transform = ...\n",
        "  def __getitem__(self,idx):\n",
        "    img = self.transform(Image.open(f\"Train/{self.X.iloc[idx]}\"))\n",
        "    label = ... # Tip : use pandas.iloc method\n",
        "    return {\"data\":img,\"label\":label}\n",
        "  def __len__(self):\n",
        "    return self.X.shape[0]\n",
        "\n"
      ]
    },
    {
      "cell_type": "code",
      "execution_count": null,
      "metadata": {
        "id": "PsA2YnvUwFxx"
      },
      "outputs": [],
      "source": [
        "age_train_dataset = AgeImageDataset(X=X_age_train,y=y_age_train)"
      ]
    },
    {
      "cell_type": "code",
      "execution_count": null,
      "metadata": {
        "id": "5gUap_xK-_i_"
      },
      "outputs": [],
      "source": [
        "len(age_train_dataset)"
      ]
    },
    {
      "cell_type": "code",
      "execution_count": null,
      "metadata": {
        "id": "9sn3ydbfyYJ9"
      },
      "outputs": [],
      "source": [
        "def visualize_age_dataset(dataset,cols=4,rows=4):\n",
        "  labels_map = {\n",
        "      0: \"YOUNG\",\n",
        "      1: \"MIDDLE\",\n",
        "      2: \"OLD\",\n",
        "  }\n",
        "  figure = plt.figure(figsize=(10, 10))\n",
        "\n",
        "  for i in range(1, cols * rows + 1):\n",
        "      sample_idx = torch.randint(len(dataset), size=(1,)).item()\n",
        "      sample = dataset[sample_idx]\n",
        "      img = sample[\"data\"]\n",
        "      label = sample[\"label\"].item()\n",
        "      figure.add_subplot(rows, cols, i)\n",
        "      plt.title(labels_map[label])\n",
        "      plt.axis(\"off\")\n",
        "      plt.imshow(img.permute(1,2,0).cpu().numpy())\n",
        "  plt.show()\n"
      ]
    },
    {
      "cell_type": "code",
      "execution_count": null,
      "metadata": {
        "id": "hz9XUjK7wWlx"
      },
      "outputs": [],
      "source": [
        "visualize_age_dataset(age_train_dataset)\n"
      ]
    },
    {
      "cell_type": "markdown",
      "metadata": {
        "id": "F2aJYe6bqcWj"
      },
      "source": [
        "\n",
        "\n",
        "<div class=\"alert alert-block alert-info\">\n",
        "    \n",
        "<b> Exercise 4.0.2: </b>  \n",
        "Implement a multi-layer perceptron (`Linear` layers with `ReLU` activations).\n",
        "\n",
        "**Tip**: Use a flatten layer (`nn.Flatten`)\n",
        "\n",
        "</div>"
      ]
    },
    {
      "cell_type": "code",
      "execution_count": null,
      "metadata": {
        "id": "KjjsXyg6nEXl"
      },
      "outputs": [],
      "source": [
        "class MLPImage(nn.Module):\n",
        "  def __init__(self,in_channels=3,n_class=3):\n",
        "    super(MLPImage, self).__init__()\n",
        "    self.flatten = ...\n",
        "    self.fc1 = ...\n",
        "    self.fc2 = ...\n",
        "    self.fc3 = ...\n",
        "    self.activation = ...\n",
        "    self.fc_logits = ...\n",
        "  def forward(self,x):\n",
        "    ...\n",
        "    return logits\n",
        "\n"
      ]
    },
    {
      "cell_type": "markdown",
      "metadata": {
        "id": "vDHfk_yMsK_D"
      },
      "source": [
        "<div class=\"alert alert-block alert-info\">\n",
        "    \n",
        "<b> Exercise 4.1: </b>  \n",
        "Adapt the training loop for this classification task. To do this: \n",
        "* Fill in the missing code\n",
        "* Comment on each line of the training loop (except the lines used for visualization).\n",
        "* Raise your hand to give me an oral report on this question \n",
        "\n",
        "**Tip**: Use `torch.argmax` function to get the index of the maximum of a vector.\n",
        "\n",
        "</div>\n"
      ]
    },
    {
      "cell_type": "code",
      "execution_count": null,
      "metadata": {
        "id": "x05gB3EV6J64"
      },
      "outputs": [],
      "source": [
        "def train_age_classifier(\n",
        "    model: nn.Module,\n",
        "    optimizer: torch.optim.Optimizer,\n",
        "    train_loader: DataLoader,\n",
        "    valid_loader: DataLoader,\n",
        "    nb_epoch: int,\n",
        "    criterion: nn.Module,\n",
        "    device: torch.device = torch.device(\"cuda:0\"),\n",
        "    verbose: bool=True,\n",
        ") -> None:\n",
        "    \"\"\"\n",
        "    Pytorch training loop\n",
        "    Args:\n",
        "        model (nn.Module): Pytorch classification model\n",
        "        optimizer (torch.optim.Optimizer): Optimizer for the model\n",
        "        train_loader (DataLoader): DataLoader for training fold\n",
        "        valid_loader (DataLoader): DataLoader for validation fold\n",
        "        nb_epoch (int): Number of epoch\n",
        "        criterion (nn.Module): Loss\n",
        "        device (torch.device): .Defaults to `torch.device(\"cuda:0\")`\n",
        "        verbose (bool): Verbose term\n",
        "    \"\"\"\n",
        "    loaders = {\"train\": train_loader, \"validation\": valid_loader}\n",
        "    model.to(device)\n",
        "    train_loss = []\n",
        "    val_loss = []\n",
        "    train_acc = []\n",
        "    val_acc = []\n",
        "    for epoch in range(1, nb_epoch + 1):\n",
        "        if verbose:\n",
        "          print(\"-\" * 80)\n",
        "        for phase in [\"train\", \"validation\"]:\n",
        "            if phase == \"train\":\n",
        "                model.train()\n",
        "            else:\n",
        "                model.eval()\n",
        "            running_loss = 0.0\n",
        "            running_corrects = 0.0\n",
        "            for sample in loaders[phase]:\n",
        "                data = ...\n",
        "                label = ...\n",
        "                optimizer.zero_grad()\n",
        "                data, label = data.to(device), label.to(device)\n",
        "                with torch.set_grad_enabled(phase == \"train\"):\n",
        "                    output = ...\n",
        "                    pred_label = ... # use torch.argmax\n",
        "                    loss = ...\n",
        "                    if phase == \"train\":\n",
        "                        ...\n",
        "                        ...\n",
        "                running_loss += loss.item()/data.size(0)\n",
        "                running_corrects += torch.sum(pred_label == label)\n",
        "            epoch_loss = running_loss / len(loaders[phase].dataset)\n",
        "            epoch_acc = running_corrects.item() / (len(loaders[phase].dataset))\n",
        "            if phase == \"train\":\n",
        "              train_loss.append(epoch_loss)\n",
        "              train_acc.append(epoch_acc)\n",
        "            else:\n",
        "              val_loss.append(epoch_loss)\n",
        "              val_acc.append(epoch_acc)\n",
        "            if verbose:\n",
        "              print(\n",
        "                  f\" Epoch number: {epoch}, Phase: {phase}, Loss value: {epoch_loss:.4f}, Accuracy : {epoch_acc:.4f}\"\n",
        "              )\n",
        "    fig, axes = plt.subplots(1, 2,figsize=(10,5))\n",
        "    fig.suptitle('Training and validation statistics')\n",
        "\n",
        "    sns.lineplot(ax=axes[0], x=np.arange(len(train_loss)), y=train_loss)\n",
        "    sns.lineplot(ax=axes[0], x=np.arange(len(val_loss)), y=val_loss)\n",
        "    axes[0].legend(labels=[\"Train loss\",\"Val loss\"])\n",
        "\n",
        "    sns.lineplot(ax=axes[1], x=np.arange(len(train_acc)), y=train_acc)\n",
        "    sns.lineplot(ax=axes[1], x=np.arange(len(val_acc)), y=val_acc)\n",
        "    axes[1].legend(labels=[\"Train accuracy\",\"Val accuracy\"])\n",
        "    plt.show()\n",
        "    return train_loss,train_acc,val_loss,val_acc"
      ]
    },
    {
      "cell_type": "markdown",
      "metadata": {
        "id": "J9EBJJ0HtVxE"
      },
      "source": [
        "<div class=\"alert alert-block alert-info\">\n",
        "    \n",
        "<b> Exercise 4.2: </b>  \n",
        "Instantiate the list of parameters necessary to launch the function and justify each of these parameters (Why use this loss, why use this optimizer, why set this learning rate, why use this architecture ...)  \n",
        "</div>"
      ]
    },
    {
      "cell_type": "code",
      "execution_count": null,
      "metadata": {
        "id": "3QdCX5ojp827"
      },
      "outputs": [],
      "source": [
        "batch_size = ... \n",
        "num_workers = ... \n",
        "train_age_dataset = ... \n",
        "val_age_dataset = ... \n",
        "train_dataloader = ... \n",
        "val_dataloader = ...\n",
        "learning_rate = ...\n",
        "mlp_image = ... \n",
        "optimizer = ... \n",
        "criterion = ... \n",
        "device = ... \n",
        "nb_epochs = ... \n",
        "verbose = ... "
      ]
    },
    {
      "cell_type": "code",
      "execution_count": null,
      "metadata": {
        "id": "Q47RPd5W1mCu"
      },
      "outputs": [],
      "source": [
        "train_loss,train_acc,val_loss,val_acc = ..."
      ]
    },
    {
      "cell_type": "markdown",
      "metadata": {
        "id": "s2tQm_YquWcy"
      },
      "source": [
        "<div class=\"alert alert-block alert-info\">\n",
        "    \n",
        "<b> Exercise 4.3: </b>  \n",
        "Try to improve your model by increasing : \n",
        "* The number of parameters (more layers, more intermediate features)\n",
        "* Adding batch normalization and dropout (`nn.BatchNorm1D`and `nn.Dropout`) to prevent overfitting\n",
        "</div>"
      ]
    },
    {
      "cell_type": "markdown",
      "metadata": {
        "id": "SykYEKzVv-5p"
      },
      "source": [
        "MLP's are not very efficient networks on images.\n",
        "**Convolutional** networks are much more adapted because they allow to exploit spatial information.\n",
        "Indeed, convolution networks have an **inductive bias** which is called the **locality bias**.\n",
        "\n",
        "The convolution operation is used to extract information from an image. For example the Sobel filter is an operator used in image processing for the detection of contours.\n",
        "The idea of convolutional networks is to **learn a set of filters to extract relevant information from the image**."
      ]
    },
    {
      "cell_type": "markdown",
      "metadata": {
        "id": "4IDR-1ZEyyBD"
      },
      "source": [
        "<div class=\"alert alert-block alert-info\">\n",
        "    \n",
        "<b> Exercise 4.4: </b>  \n",
        "Using `nn.Conv2D`, implement a convolution layer with a square kernel of size 3 taking as input a tensor with 3 channels and returns a tensor with 16 channels. \n",
        "\n",
        "* Apply the convolution on the following image\n",
        "* Look at the output dimensions using the `torch.size` method.\n",
        "* Explain in detail this operation and the output dimensions.\n",
        "\n",
        "**Tip**: https://pytorch.org/docs/stable/generated/torch.nn.Conv2d.html\n",
        "\n",
        "</div>"
      ]
    },
    {
      "cell_type": "code",
      "execution_count": null,
      "metadata": {
        "id": "n03kyj-Y1M9r"
      },
      "outputs": [],
      "source": [
        "image = age_train_dataset[0][\"data\"].unsqueeze(0)\n",
        "conv = \n",
        "res_conv = "
      ]
    },
    {
      "cell_type": "markdown",
      "metadata": {
        "id": "p7W59q-i0Hw9"
      },
      "source": [
        "Another operation used in convolutional networks is **pooling** :\n",
        "\n",
        "Pooling is a feature commonly imbibed into Convolutional Neural Network (CNN) architectures. The main idea behind a pooling layer is to “accumulate” features from maps generated by convolving a filter over an image. Formally, its function is to progressively reduce the spatial size of the representation to reduce the amount of parameters and computation in the network. The most common form of pooling is max pooling.\n",
        "\n"
      ]
    },
    {
      "cell_type": "markdown",
      "metadata": {
        "id": "dvUVAdar1nSs"
      },
      "source": [
        "<div class=\"alert alert-block alert-info\">\n",
        "    \n",
        "<b> Exercise 4.5: </b>  \n",
        "Using `nn.MaxPool2d`, implement a max pooling layer with a square kernel of size 2 and a stride of size 2 taking as input the result of the previous convolutional layer.\n",
        "\n",
        "* Look at the output dimensions using the `torch.size` method.\n",
        "* Explain in detail this operation and the output dimensions.\n",
        "\n",
        "\n",
        "</div>"
      ]
    },
    {
      "cell_type": "code",
      "execution_count": null,
      "metadata": {
        "id": "XFMAf9TJ2YXk"
      },
      "outputs": [],
      "source": [
        "pooling = ...\n",
        "res_pool = ..."
      ]
    },
    {
      "cell_type": "markdown",
      "metadata": {
        "id": "Dw1Mi31_2_Lp"
      },
      "source": [
        "<div class=\"alert alert-block alert-info\">\n",
        "    \n",
        "<b> Exercise 4.6: </b>  \n",
        "\n",
        "Implement the following convolutional network: \n",
        "* A convolution taking in input an image with 3 channels and outputting 16 channels with a kernel of size 3\n",
        "* A ReLu activation (`nn.ReLU`).\n",
        "* A 2D Batch Normalization (`nn.BatchNorm2d`).\n",
        "--------------------------------------------------------\n",
        "\n",
        "* A convolution taking in input an image with 16 channels and outputting 32 channels with a kernel of size 3\n",
        "* A MaxPooling2d layer with a kernel of size 2 and a stride of size 2\n",
        "* A ReLu activation (`nn.ReLU`).\n",
        "* A 2D Batch Normalization (`nn.BatchNorm2d`).\n",
        "--------------------------------------------------------\n",
        "* A convolution taking in input an image with 32 channels and outputting 64 channels with a kernel of size 3\n",
        "* A MaxPooling2d layer with a kernel of size 2 and a stride of size 2\n",
        "* A ReLu activation (`nn.ReLU`).\n",
        "* A 2D Batch Normalization (`nn.BatchNorm2d`).\n",
        "--------------------------------------------------------\n",
        "* A convolution taking in input an image with 64 channels and outputting 128 channels with a kernel of size 3\n",
        "* A MaxPooling2d layer with a kernel of size 2 and a stride of size 2\n",
        "* A ReLu activation (`nn.ReLU`).\n",
        "* A 2D Batch Normalization (`nn.BatchNorm2d`).\n",
        "--------------------------------------------------------\n",
        "* A flatten layer taking in input a 128 channels\n",
        "\n",
        "* A Linear layer taking in input 128*4 feature and outputting 3 logits.\n",
        "\n",
        "\n",
        "</div>"
      ]
    },
    {
      "cell_type": "code",
      "execution_count": null,
      "metadata": {
        "id": "a6lplPrnoH2V"
      },
      "outputs": [],
      "source": [
        "class SimpleConvModel(nn.Module):\n",
        "  def __init__(self,in_channels=3,n_class=3):\n",
        "    super(SimpleConvModel, self).__init__()\n",
        "    self.conv1 = ...  \n",
        "    self.conv2 = ...  \n",
        "    self.conv3 = ...  \n",
        "    self.conv4 = ...  \n",
        "    self.pool = ...  \n",
        "    self.activation = ...  \n",
        "    self.flatten = ...  \n",
        "    self.fc = ...  \n",
        "    self.bn1 = ...  \n",
        "    self.bn2 = ...  \n",
        "    self.bn3 = ...  \n",
        "\n",
        "  def forward(self,x):\n",
        "    ...\n",
        "    return logits\n",
        "\n"
      ]
    },
    {
      "cell_type": "markdown",
      "metadata": {
        "id": "ebqUPl4S5b6-"
      },
      "source": [
        "<div class=\"alert alert-block alert-info\">\n",
        "    \n",
        "<b> Exercise 4.7: </b>  \n",
        "Instantiate the list of parameters necessary to launch the function and justify each of these parameters (Why use this loss, why use this optimizer, why set this learning rate, why use this architecture ...)  \n",
        "</div>"
      ]
    },
    {
      "cell_type": "code",
      "execution_count": null,
      "metadata": {
        "id": "ZZi3IfW67PYb"
      },
      "outputs": [],
      "source": [
        "batch_size = ... \n",
        "num_workers = ... \n",
        "train_age_dataset = ...\n",
        "val_age_dataset = ... \n",
        "train_dataloader = ... \n",
        "val_dataloader = ... \n",
        "learning_rate = ... \n",
        "simple_conv = ...\n",
        "optimizer = ... \n",
        "criterion = ... \n",
        "device = ... \n",
        "nb_epochs = ... \n",
        "verbose = ..."
      ]
    },
    {
      "cell_type": "code",
      "execution_count": null,
      "metadata": {
        "id": "9N64iobypokb"
      },
      "outputs": [],
      "source": [
        "train_loss,train_acc,val_loss,val_acc =  ..."
      ]
    },
    {
      "cell_type": "markdown",
      "metadata": {
        "id": "UVOJaSLd5lWB"
      },
      "source": [
        "<div class=\"alert alert-block alert-info\">\n",
        "    \n",
        "<b> Exercise 4.8: </b>  \n",
        "Comment on the results.\n",
        "How can we improve the performance of the model ? \n",
        "\n",
        "Try to improve your convolutional network.\n",
        "\n",
        "**Tip**: Use dropout to prevent overfitting `nn.Dropout2d(p=...)`\n",
        "\n",
        "</div>"
      ]
    },
    {
      "cell_type": "markdown",
      "metadata": {
        "id": "w5jNeVqG6ADw"
      },
      "source": [
        "An effective way to increase the performance of a model is to use a pre-trained model.\n",
        "The following codes allow to fine tune a model.\n"
      ]
    },
    {
      "cell_type": "markdown",
      "metadata": {
        "id": "xvoT-RdF6icm"
      },
      "source": [
        "<div class=\"alert alert-block alert-info\">\n",
        "    \n",
        "<b> Exercise BONUS: </b>  \n",
        "If you get to this step during the session, raise your hand and explain to me what you understand about this code.\n",
        "</div>"
      ]
    },
    {
      "cell_type": "code",
      "execution_count": null,
      "metadata": {
        "id": "IaZoVKoodQB-"
      },
      "outputs": [],
      "source": [
        "from torchvision import models\n",
        "import torch.nn as nn\n",
        "def set_parameter_requires_grad(model, feature_extracting):\n",
        "   if feature_extracting:\n",
        "        for param in model.parameters():\n",
        "            param.requires_grad = False"
      ]
    },
    {
      "cell_type": "code",
      "execution_count": null,
      "metadata": {
        "id": "o_RPpDpKdqIZ"
      },
      "outputs": [],
      "source": [
        "use_pretrained = True\n",
        "feature_extract = False\n",
        "num_classes = 3\n",
        "model_ft = models.resnet18(pretrained=use_pretrained)\n",
        "set_parameter_requires_grad(model_ft, feature_extract)\n",
        "num_ftrs = model_ft.fc.in_features\n",
        "model_ft.fc = nn.Sequential(nn.Dropout(p=0.7),nn.Linear(num_ftrs, 64),nn.Dropout(p=0.7),nn.Linear(64, num_classes))\n",
        "input_size = 224"
      ]
    },
    {
      "cell_type": "code",
      "execution_count": null,
      "metadata": {
        "id": "EWfwJtP18QCG"
      },
      "outputs": [],
      "source": [
        "batch_size = 64\n",
        "num_workers = 1\n",
        "train_age_dataset = AgeImageDataset(X=X_age_train,y=y_age_train)\n",
        "val_age_dataset = AgeImageDataset(X=X_age_val,y=y_age_val)\n",
        "train_dataloader = DataLoader(dataset=train_age_dataset,batch_size=batch_size,num_workers=num_workers)\n",
        "val_dataloader = DataLoader(dataset=val_age_dataset,batch_size=batch_size,num_workers=num_workers)\n",
        "learning_rate = 1e-4\n",
        "optimizer = Adam(params=model_ft.parameters(),lr=learning_rate,weight_decay=0.1)\n",
        "criterion = nn.CrossEntropyLoss()\n",
        "device = \"cuda:0\"\n",
        "nb_epochs = 15\n",
        "verbose = True"
      ]
    },
    {
      "cell_type": "code",
      "execution_count": null,
      "metadata": {
        "id": "sR1qqSFI7HIQ"
      },
      "outputs": [],
      "source": [
        "train_loss,train_acc,val_loss,val_acc = train_age_classifier(model=model_ft,optimizer=optimizer,train_loader=train_dataloader,valid_loader=val_dataloader,\n",
        "                 nb_epoch=nb_epochs,criterion=criterion,device=device,verbose=verbose)"
      ]
    },
    {
      "cell_type": "code",
      "execution_count": null,
      "metadata": {
        "id": "MF7e0BhH7d9O"
      },
      "outputs": [],
      "source": [
        "from google.colab import files\n",
        "files.upload()"
      ]
    }
  ],
  "metadata": {
    "accelerator": "GPU",
    "colab": {
      "collapsed_sections": [],
      "name": " Introduction to deep learning_student.ipynb",
      "provenance": []
    },
    "kernelspec": {
      "display_name": "Python 3 (ipykernel)",
      "language": "python",
      "name": "python3"
    },
    "language_info": {
      "codemirror_mode": {
        "name": "ipython",
        "version": 3
      },
      "file_extension": ".py",
      "mimetype": "text/x-python",
      "name": "python",
      "nbconvert_exporter": "python",
      "pygments_lexer": "ipython3",
      "version": "3.9.7"
    }
  },
  "nbformat": 4,
  "nbformat_minor": 0
}